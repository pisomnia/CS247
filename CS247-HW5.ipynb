{
 "cells": [
  {
   "cell_type": "markdown",
   "metadata": {},
   "source": [
    "# CS 247 HW5\n",
    "\n",
    "Name:\n",
    "UID:\n",
    "\n",
    "Dataset: For problem 1 and 2, you will use MovieLens-1M dataset [here](https://grouplens.org/datasets/movielens/1m/). It's a small dataset but enough representative for Recommender System evaluation. Please carefully read the `readme.txt` to know what are included in the dataset. It is already preprocessed and can almost directly put into use."
   ]
  },
  {
   "cell_type": "markdown",
   "metadata": {},
   "source": [
    "## Problem 1\n",
    "\n",
    "### 1. SGD of MF with bias term\n",
    "\n",
    "### 2. Implement MF with and without bias term"
   ]
  },
  {
   "cell_type": "code",
   "execution_count": null,
   "metadata": {},
   "outputs": [],
   "source": [
    "# Problem 1"
   ]
  },
  {
   "cell_type": "markdown",
   "metadata": {},
   "source": [
    "## Problem 2\n",
    "\n",
    "### 1. SGD for logistic MF and Bayesian Ranking approach\n",
    "\n",
    "### 2. Implement logistic MF and Bayesian Ranking approach\n"
   ]
  },
  {
   "cell_type": "code",
   "execution_count": null,
   "metadata": {},
   "outputs": [],
   "source": [
    "# Problem 2"
   ]
  },
  {
   "cell_type": "markdown",
   "metadata": {},
   "source": [
    "## Problem 3\n",
    "\n",
    "### 1. Interpret MF as a neural network\n",
    "\n",
    "### 2. Ways to handle item information"
   ]
  },
  {
   "cell_type": "code",
   "execution_count": null,
   "metadata": {},
   "outputs": [],
   "source": []
  }
 ],
 "metadata": {
  "kernelspec": {
   "display_name": "Python 3",
   "language": "python",
   "name": "python3"
  },
  "language_info": {
   "codemirror_mode": {
    "name": "ipython",
    "version": 3
   },
   "file_extension": ".py",
   "mimetype": "text/x-python",
   "name": "python",
   "nbconvert_exporter": "python",
   "pygments_lexer": "ipython3",
   "version": "3.6.5"
  }
 },
 "nbformat": 4,
 "nbformat_minor": 2
}
